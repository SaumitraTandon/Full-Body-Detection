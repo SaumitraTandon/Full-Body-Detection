{
 "cells": [
  {
   "cell_type": "markdown",
   "id": "266cdde1",
   "metadata": {},
   "source": [
    "## OpenCV"
   ]
  },
  {
   "cell_type": "code",
   "execution_count": null,
   "id": "8469a3a0",
   "metadata": {},
   "outputs": [],
   "source": [
    "import cv2"
   ]
  },
  {
   "cell_type": "code",
   "execution_count": null,
   "id": "b47f53fc",
   "metadata": {},
   "outputs": [],
   "source": [
    "from google.colab import drive\n",
    "drive.mount('/content/drive')"
   ]
  },
  {
   "cell_type": "markdown",
   "id": "d86b452d",
   "metadata": {},
   "source": [
    "#### Full body"
   ]
  },
  {
   "cell_type": "code",
   "execution_count": null,
   "id": "5b71e2ec",
   "metadata": {},
   "outputs": [],
   "source": [
    "full_detector = cv2.CascadeClassifier('/content/drive/MyDrive/Cursos - recursos/Computer Vision Masterclass/Cascades/fullbody.xml')\n",
    "image = cv2.imread('/content/drive/MyDrive/Cursos - recursos/Computer Vision Masterclass/Images/people3.jpg')\n",
    "image_gray = cv2.cvtColor(image, cv2.COLOR_BGR2GRAY)\n",
    "detections = full_detector.detectMultiScale(image_gray, scaleFactor = 1.05, minNeighbors=5,\n",
    "                                              minSize = (50,50))\n",
    "for (x, y, w, h) in detections:\n",
    "  cv2.rectangle(image, (x, y), (x + w, y + h), (0,255,0), 2)\n",
    "cv2_imshow(image)"
   ]
  }
 ],
 "metadata": {
  "kernelspec": {
   "display_name": "Python 3 (ipykernel)",
   "language": "python",
   "name": "python3"
  },
  "language_info": {
   "codemirror_mode": {
    "name": "ipython",
    "version": 3
   },
   "file_extension": ".py",
   "mimetype": "text/x-python",
   "name": "python",
   "nbconvert_exporter": "python",
   "pygments_lexer": "ipython3",
   "version": "3.11.5"
  }
 },
 "nbformat": 4,
 "nbformat_minor": 5
}
